{
  "nbformat": 4,
  "nbformat_minor": 0,
  "metadata": {
    "colab": {
      "name": "Análisis exploratorio.ipynb",
      "provenance": [],
      "collapsed_sections": [
        "kOU_Ke5EY74l",
        "W0geLs78ZBmE",
        "HZNvhfw5qc2g"
      ],
      "toc_visible": true
    },
    "kernelspec": {
      "name": "python3",
      "display_name": "Python 3"
    },
    "language_info": {
      "name": "python"
    }
  },
  "cells": [
    {
      "cell_type": "markdown",
      "metadata": {
        "id": "kOU_Ke5EY74l"
      },
      "source": [
        "# Introducción"
      ]
    },
    {
      "cell_type": "markdown",
      "metadata": {
        "id": "x_KliN8bYbyF"
      },
      "source": [
        "En este documento se va a realizar un análisis exploratorio del cuerpo de datos extraido desde \"OpenStreetMap\"."
      ]
    },
    {
      "cell_type": "markdown",
      "metadata": {
        "id": "W0geLs78ZBmE"
      },
      "source": [
        "# Carga de datos"
      ]
    },
    {
      "cell_type": "code",
      "metadata": {
        "colab": {
          "base_uri": "https://localhost:8080/"
        },
        "id": "0SPz-qo6YXgL",
        "outputId": "bf9866d4-8b3f-43e2-f804-d60d69a44e43"
      },
      "source": [
        "!pip install xmltodict"
      ],
      "execution_count": 6,
      "outputs": [
        {
          "output_type": "stream",
          "text": [
            "Collecting xmltodict\n",
            "  Downloading https://files.pythonhosted.org/packages/28/fd/30d5c1d3ac29ce229f6bdc40bbc20b28f716e8b363140c26eff19122d8a5/xmltodict-0.12.0-py2.py3-none-any.whl\n",
            "Installing collected packages: xmltodict\n",
            "Successfully installed xmltodict-0.12.0\n"
          ],
          "name": "stdout"
        }
      ]
    },
    {
      "cell_type": "code",
      "metadata": {
        "id": "ftlB8gWRbJYe"
      },
      "source": [
        "import json\n",
        "with open('ciudad_deseada.json', 'r') as myfile:\n",
        "    data = json.load(myfile)"
      ],
      "execution_count": 38,
      "outputs": []
    },
    {
      "cell_type": "markdown",
      "metadata": {
        "id": "Mfk0IWCPj1bG"
      },
      "source": [
        "# Análisis"
      ]
    },
    {
      "cell_type": "code",
      "metadata": {
        "colab": {
          "base_uri": "https://localhost:8080/"
        },
        "id": "JGm9SPI80516",
        "outputId": "61ff5b05-91af-4ede-9eae-87198bd4f583"
      },
      "source": [
        "data['elements'][0]"
      ],
      "execution_count": 175,
      "outputs": [
        {
          "output_type": "execute_result",
          "data": {
            "text/plain": [
              "{'id': 31035108,\n",
              " 'lat': -12.0460404,\n",
              " 'lon': -77.0430448,\n",
              " 'tags': {'highway': 'traffic_signals', 'traffic_signals': 'signal'},\n",
              " 'type': 'node'}"
            ]
          },
          "metadata": {
            "tags": []
          },
          "execution_count": 175
        }
      ]
    },
    {
      "cell_type": "code",
      "metadata": {
        "colab": {
          "base_uri": "https://localhost:8080/",
          "height": 297
        },
        "id": "LjCkR2FccD3m",
        "outputId": "ac461d67-41e8-41d8-a954-d94ad9d9fb3c"
      },
      "source": [
        "# Adapted from https://towardsdatascience.com/loading-data-from-openstreetmap-with-python-and-the-overpass-api-513882a27fd0\n",
        "import numpy as np\n",
        "import matplotlib.pyplot as plt\n",
        "coords = []\n",
        "ids=[]\n",
        "for element in data['elements']:\n",
        "  if element['type'] == 'node':\n",
        "    ids.append(element['id'])\n",
        "    lon = element['lon']\n",
        "    lat = element['lat']\n",
        "    coords.append((lon, lat))\n",
        "  elif 'center' in element:\n",
        "    ids.append(element['center']['id'])\n",
        "    lon = element['center']['lon']\n",
        "    lat = element['center']['lat']\n",
        "    coords.append((lon, lat))\n",
        "\n",
        "X = np.array(coords)\n",
        "plt.plot(X[:, 0], X[:, 1], 'o')\n",
        "plt.title('Área de la ciudad de Lima a trabajar')\n",
        "plt.xlabel('Longitud')\n",
        "plt.ylabel('Latitud')\n",
        "plt.axis('equal')\n",
        "plt.show()"
      ],
      "execution_count": 176,
      "outputs": [
        {
          "output_type": "display_data",
          "data": {
            "image/png": "[encoded data removed]",
            "text/plain": [
              "<Figure size 432x288 with 1 Axes>"
            ]
          },
          "metadata": {
            "tags": [],
            "needs_background": "light"
          }
        }
      ]
    },
    {
      "cell_type": "code",
      "metadata": {
        "colab": {
          "base_uri": "https://localhost:8080/"
        },
        "id": "0wkAdAihjW54",
        "outputId": "3cdec52d-ab3e-4032-b8cc-6a88a99d69a9"
      },
      "source": [
        "print(\"Catidad de nodos obtenidos: \",X.shape[0])"
      ],
      "execution_count": 177,
      "outputs": [
        {
          "output_type": "stream",
          "text": [
            "Catidad de nodos obtenidos:  77811\n"
          ],
          "name": "stdout"
        }
      ]
    },
    {
      "cell_type": "markdown",
      "metadata": {
        "id": "4S1ZXVMbjtvI"
      },
      "source": [
        "Debido a la gran cantidad de nodos que se tienen, no tiene mucho sentido intentar graficar cada uno de ellos en un diagrama de dispersión. Asi que nos enfocaremos en otras partes del cuerpo de datos."
      ]
    },
    {
      "cell_type": "code",
      "metadata": {
        "colab": {
          "base_uri": "https://localhost:8080/"
        },
        "id": "XhnAfX-zcvTe",
        "outputId": "7457e62d-2db8-4fbe-ec2c-789649a93a51"
      },
      "source": [
        "types={}\n",
        "waytags=[]\n",
        "ways=[]\n",
        "for element in data['elements']:\n",
        "  if \"tags\" in element.keys() and element['type']=='way':\n",
        "    ways.append(element)\n",
        "    waytags.append(element['tags'])\n",
        "  if element['type'] not in types.keys():\n",
        "    types[element['type']]=1\n",
        "  else:\n",
        "    types[element['type']]+=1\n",
        "print(types)"
      ],
      "execution_count": 178,
      "outputs": [
        {
          "output_type": "stream",
          "text": [
            "{'node': 77811, 'way': 17314, 'relation': 616}\n"
          ],
          "name": "stdout"
        }
      ]
    },
    {
      "cell_type": "markdown",
      "metadata": {
        "id": "oLaVcyx3pAIQ"
      },
      "source": [
        "Se puede observar que se tiene 77811 nodos como se mencionó lineas arriba. De la misma manera, se puede observar que se tienen 17314 \"ways\". Esto quiere decir que de acuerdo a la wiki de \"OpenStreetMap\" (Colaboradores de OpenStreetMap, 2021), un \"way\" es un conjunto de nodos que representan una característica lineal del mapa. En otras palabras, se tienen 17314 caminos, paredes o ríos."
      ]
    },
    {
      "cell_type": "code",
      "metadata": {
        "id": "V3oE5-gPsM7n"
      },
      "source": [
        "# Ahora observaremos más a detalle cada uno de estos \"ways\"\n",
        "avs={}\n",
        "for element in waytags:\n",
        "  if 'name' in element.keys():\n",
        "    if element['name'] not in avs.keys():\n",
        "      avs[element['name']]= 1\n",
        "    else:\n",
        "      avs[element['name']]+=1"
      ],
      "execution_count": 179,
      "outputs": []
    },
    {
      "cell_type": "code",
      "metadata": {
        "id": "hvUdAWUBuWuB"
      },
      "source": [
        "sortedavs=dict(sorted(avs.items(), key=lambda x:x[1],reverse=True))"
      ],
      "execution_count": 180,
      "outputs": []
    },
    {
      "cell_type": "code",
      "metadata": {
        "colab": {
          "base_uri": "https://localhost:8080/"
        },
        "id": "cnrWj0QY2WZ5",
        "outputId": "70629727-f85b-436b-c566-3d9de2a60364"
      },
      "source": [
        "list(sortedavs.keys())[0:7]"
      ],
      "execution_count": 181,
      "outputs": [
        {
          "output_type": "execute_result",
          "data": {
            "text/plain": [
              "['Metropolitano',\n",
              " 'Avenida Panamericana Norte',\n",
              " 'Avenida Alfonso Ugarte',\n",
              " 'Vía Expresa Línea Amarilla',\n",
              " 'Avenida Almirante Miguel Grau',\n",
              " 'Avenida Nicolás de Pierola',\n",
              " 'Vía Expresa Almirante Miguel Grau']"
            ]
          },
          "metadata": {
            "tags": []
          },
          "execution_count": 181
        }
      ]
    },
    {
      "cell_type": "code",
      "metadata": {
        "colab": {
          "base_uri": "https://localhost:8080/",
          "height": 497
        },
        "id": "bK63rs-ovyZK",
        "outputId": "7ad4fabc-bb84-433b-cd96-721d66e59b35"
      },
      "source": [
        "import matplotlib.pyplot as plt\n",
        "fig = plt.figure(figsize=(16,8))\n",
        "ax = fig.add_axes([0,0,1,1])\n",
        "langs = list(sortedavs.keys())[0:7]\n",
        "students = list(sortedavs.values())[0:7]\n",
        "ax.bar(langs,students,width=0.8)\n",
        "plt.show()"
      ],
      "execution_count": 182,
      "outputs": [
        {
          "output_type": "display_data",
          "data": {
            "image/png": "[encoded data removed]",
            "text/plain": [
              "<Figure size 1152x576 with 1 Axes>"
            ]
          },
          "metadata": {
            "tags": [],
            "needs_background": "light"
          }
        }
      ]
    },
    {
      "cell_type": "markdown",
      "metadata": {
        "id": "9hySFF67zKmp"
      },
      "source": [
        "Aquí se muestran los nombres de calles que más se repiten en los datos obtenidos. LLama la atención la presencia de el \"Metropolitano\" como uno de los más repetidos. Esto probablemente se deba a que esta zona que se ha seleccionado de Lima está altamente urbanizada y por lo tanto haya una alta demanda de transporte público. "
      ]
    },
    {
      "cell_type": "code",
      "metadata": {
        "id": "g5rPqlTx4Lnr"
      },
      "source": [
        "import math\n",
        "import json\n",
        "''' Haversine implementation adapted from: \n",
        "https://stackoverflow.com/questions/27928/calculate-distance-between-two-latitude-longitude-points-haversine-formula'''\n",
        "\n",
        "def getDistanceFromLatLonInKm(lat1,lon1,lat2,lon2):\n",
        "  R = 6371 # Radius of the earth in km\n",
        "  dLat = deg2rad(lat2-lat1)  #  deg2rad below\n",
        "  dLon = deg2rad(lon2-lon1) \n",
        "  a = math.sin(dLat/2) * math.sin(dLat/2) + math.cos(deg2rad(lat1)) * math.cos(deg2rad(lat2)) * math.sin(dLon/2) * math.sin(dLon/2)\n",
        "  c = 2 * math.atan2(math.sqrt(a), math.sqrt(1-a))\n",
        "  d = R * c #  Distance in km\n",
        "  return d\n",
        "\n",
        "def deg2rad(deg):\n",
        "  return deg * (math.pi/180)"
      ],
      "execution_count": 183,
      "outputs": []
    },
    {
      "cell_type": "code",
      "metadata": {
        "id": "6QdNU22hvX4B"
      },
      "source": [
        "metNodes=[]\n",
        "for way in ways:\n",
        "  if 'name' in way['tags'].keys():\n",
        "    if way['tags']['name']=='Metropolitano':\n",
        "      metNodes.append(way['nodes'])\n"
      ],
      "execution_count": 184,
      "outputs": []
    },
    {
      "cell_type": "code",
      "metadata": {
        "id": "JhsMILGd2RTy"
      },
      "source": [
        "import numpy as np\n",
        "distances=[]\n",
        "for nodos in metNodes:\n",
        "  for i in range(len(nodos)):\n",
        "    if i < len(nodos)-1:\n",
        "      try:\n",
        "        idx1= ids.index(nodos[i])\n",
        "        idx2= ids.index(nodos[i+1])\n",
        "      except ValueError:\n",
        "        continue\n",
        "      dis=getDistanceFromLatLonInKm(coords[idx1][0],coords[idx1][1],coords[idx2][0],coords[idx2][1])\n",
        "      distances.append(dis)"
      ],
      "execution_count": 185,
      "outputs": []
    },
    {
      "cell_type": "code",
      "metadata": {
        "colab": {
          "base_uri": "https://localhost:8080/"
        },
        "id": "l7whC1Giu5cs",
        "outputId": "2eff8c68-04c1-4e64-cb54-dd3b3988ea91"
      },
      "source": [
        "print(\"Distancia promedio entre nodos de Metropolitano\",sum(distances)*1000/len(distances), \" metros\")"
      ],
      "execution_count": 186,
      "outputs": [
        {
          "output_type": "stream",
          "text": [
            "Distancia promedio entre nodos de Metrpolitano 17.44842661783017  metros\n"
          ],
          "name": "stdout"
        }
      ]
    },
    {
      "cell_type": "code",
      "metadata": {
        "id": "aYb7J8GwsJjg"
      },
      "source": [
        "panNodes=[]\n",
        "for way in ways:\n",
        "  if 'name' in way['tags'].keys():\n",
        "    if way['tags']['name']=='Avenida Panamericana Norte':\n",
        "      panNodes.append(way['nodes'])"
      ],
      "execution_count": 190,
      "outputs": []
    },
    {
      "cell_type": "code",
      "metadata": {
        "id": "U2pstyGq7yIm"
      },
      "source": [
        "import numpy as np\n",
        "distances=[]\n",
        "for nodos in panNodes:\n",
        "  for i in range(len(nodos)):\n",
        "    if i < len(nodos)-1:\n",
        "      try:\n",
        "        idx1= ids.index(nodos[i])\n",
        "        idx2= ids.index(nodos[i+1])\n",
        "      except ValueError:\n",
        "        continue\n",
        "      dis=getDistanceFromLatLonInKm(coords[idx1][0],coords[idx1][1],coords[idx2][0],coords[idx2][1])\n",
        "      distances.append(dis)"
      ],
      "execution_count": 193,
      "outputs": []
    },
    {
      "cell_type": "code",
      "metadata": {
        "colab": {
          "base_uri": "https://localhost:8080/"
        },
        "id": "cz-CQZK9d8P-",
        "outputId": "05632dd4-7b03-4c5b-89bc-7c6e118b2a38"
      },
      "source": [
        "print(\"Distancia promedio entre nodos de Avenida Panamericana Norte\",sum(distances)*1000/len(distances), \" metros\")"
      ],
      "execution_count": 195,
      "outputs": [
        {
          "output_type": "stream",
          "text": [
            "Distancia promedio entre nodos de Avenida Panamericana Norte 53.85515675542071  metros\n"
          ],
          "name": "stdout"
        }
      ]
    },
    {
      "cell_type": "code",
      "metadata": {
        "id": "5lQV27O88Vrr"
      },
      "source": [
        "afNodes=[]\n",
        "for way in ways:\n",
        "  if 'name' in way['tags'].keys():\n",
        "    if way['tags']['name']=='Avenida Alfonso Ugarte':\n",
        "      afNodes.append(way['nodes'])"
      ],
      "execution_count": 196,
      "outputs": []
    },
    {
      "cell_type": "code",
      "metadata": {
        "id": "rL_XjpwO8cy9"
      },
      "source": [
        "import numpy as np\n",
        "distances=[]\n",
        "for nodos in afNodes:\n",
        "  for i in range(len(nodos)):\n",
        "    if i < len(nodos)-1:\n",
        "      try:\n",
        "        idx1= ids.index(nodos[i])\n",
        "        idx2= ids.index(nodos[i+1])\n",
        "      except ValueError:\n",
        "        continue\n",
        "      dis=getDistanceFromLatLonInKm(coords[idx1][0],coords[idx1][1],coords[idx2][0],coords[idx2][1])\n",
        "      distances.append(dis)"
      ],
      "execution_count": 197,
      "outputs": []
    },
    {
      "cell_type": "code",
      "metadata": {
        "colab": {
          "base_uri": "https://localhost:8080/"
        },
        "id": "oWTnmfHU8gur",
        "outputId": "dbaf19a6-d754-4ad9-f6e5-7a982787732c"
      },
      "source": [
        "print(\"Distancia promedio entre nodos de Avenida Alfonso Ugarte\",sum(distances)*1000/len(distances), \" metros\")"
      ],
      "execution_count": 199,
      "outputs": [
        {
          "output_type": "stream",
          "text": [
            "Distancia promedio entre nodos de Avenida Alfonso Ugarte 11.264035500458078  metros\n"
          ],
          "name": "stdout"
        }
      ]
    },
    {
      "cell_type": "markdown",
      "metadata": {
        "id": "vBgFIkKA87Ci"
      },
      "source": [
        "Tal como se ùede observar,luego de analizar las dinstancias entre los nodos de las 3 vías que más aparecen en la data, las vías del metropolitano tienen una gran densidad de nodos. Puesto que la distancia promedio entre nodo y nodo en estas vías es de 17,4 metros. Sin embargo, de estas tres, parece ser que la que tiene mayor densidad de nodos es la Avenida Alfonso Ugarte. Dado que, la distancia entre nodo y nodo de esta vía es de 11.2 metros. Esto puede ser a causa de que la avenida Alfonso Ugarte es una avenida que conecta a Cercado de Lima con Rímac. Además de que atraviesa la plaza Dos de Mayo y la plaza Ramon Castilla. Por lo que pudo haber atraído a más personas a reportar más nodos en esta avenida."
      ]
    },
    {
      "cell_type": "code",
      "metadata": {
        "colab": {
          "base_uri": "https://localhost:8080/"
        },
        "id": "lz53KhYs_DdF",
        "outputId": "3f4f96f6-8b5b-40e8-827d-68d85108336c"
      },
      "source": [
        "largo=getDistanceFromLatLonInKm(-12.0350,-77.0566,-12.0350,-77.0026)\n",
        "alto=getDistanceFromLatLonInKm(-12.0350,-77.0566,-12.0605,-77.0566)\n",
        "print()\n",
        "print(f\"El largo del área obtenida es: {largo} km\")\n",
        "print(f\"El alto del área obtenida es:{alto} km\")\n",
        "print(\"----------------------------------------------------------------------------------------\")\n",
        "print(f\"Él área del mapa con la que se va a trabajar es de {alto*largo} Km^2\")\n",
        "print()"
      ],
      "execution_count": 202,
      "outputs": [
        {
          "output_type": "stream",
          "text": [
            "\n",
            "El largo del área obtenida es: 5.872549022186773 km\n",
            "El alto del área obtenida es:2.835470629436158 km\n",
            "----------------------------------------------------------------------------------------\n",
            "Él área del mapa con la que se va a trabajar es de 16.65144027233462 Km^2\n",
            "\n"
          ],
          "name": "stdout"
        }
      ]
    },
    {
      "cell_type": "markdown",
      "metadata": {
        "id": "HZNvhfw5qc2g"
      },
      "source": [
        "# Referencias"
      ]
    },
    {
      "cell_type": "markdown",
      "metadata": {
        "id": "hwEiD3sgqUrn"
      },
      "source": [
        "Colaboradores de OpenStreetMap. (2021). Map features. \n",
        "\n",
        "https://wiki.openstreetmap.org/wiki/Map_features"
      ]
    }
  ]
}